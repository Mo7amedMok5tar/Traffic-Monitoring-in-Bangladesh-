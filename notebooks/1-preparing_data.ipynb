{
 "cells": [
  {
   "cell_type": "markdown",
   "id": "dd84fbb5",
   "metadata": {},
   "source": [
    "## **1.Preparing data**"
   ]
  },
  {
   "cell_type": "markdown",
   "id": "db5c3db7",
   "metadata": {},
   "source": [
    "### importing liberaries"
   ]
  },
  {
   "cell_type": "code",
   "execution_count": 9,
   "id": "e5773c81",
   "metadata": {},
   "outputs": [],
   "source": [
    "import sys\n",
    "import xml.etree.ElementTree as ET\n",
    "from collections import Counter\n",
    "from pathlib import Path\n",
    "from tqdm import tqdm\n",
    "import cv2\n",
    "from PIL import Image\n",
    "import matplotlib.pyplot as plt\n",
    "from IPython.display import Video\n",
    "import torch\n",
    "import torchvision\n",
    "from torchvision import transforms\n",
    "from torchvision.io import read_image\n",
    "from torchvision.transforms.functional import to_pil_image\n",
    "from torchvision.utils import draw_bounding_boxes, make_grid"
   ]
  },
  {
   "cell_type": "markdown",
   "id": "ead7ffec",
   "metadata": {},
   "source": [
    "### Data Explore "
   ]
  },
  {
   "cell_type": "code",
   "execution_count": 2,
   "id": "9a442516",
   "metadata": {},
   "outputs": [
    {
     "name": "stdout",
     "output_type": "stream",
     "text": [
      "..\\dataset\\train\n"
     ]
    }
   ],
   "source": [
    "# making avar for a train_dir \n",
    "dataset = Path(\"../dataset\")\n",
    "dhaka_image_dir= dataset/\"train\"\n",
    "print (dhaka_image_dir)"
   ]
  },
  {
   "cell_type": "markdown",
   "id": "b7ce5a18",
   "metadata": {},
   "source": [
    "### counting the files extentions"
   ]
  },
  {
   "cell_type": "code",
   "execution_count": 3,
   "id": "3dcb2c5b",
   "metadata": {},
   "outputs": [
    {
     "name": "stdout",
     "output_type": "stream",
     "text": [
      "the number of .jpg files is : 2987\n",
      "the number of .xml files is : 3003\n",
      "the number of .jpeg files is : 2\n",
      "the number of .png files is : 14\n"
     ]
    }
   ],
   "source": [
    "counts = Counter([file.suffix.lower() for file in dhaka_image_dir.glob(\"*\") if file.is_file()])\n",
    "\n",
    "#printing extentions counts \n",
    "for suffix , count in counts.items():\n",
    "    print (f\"the number of {suffix} files is : {count}\")"
   ]
  },
  {
   "cell_type": "markdown",
   "id": "494c200c",
   "metadata": {},
   "source": [
    "### separate images files and bounding boxes files "
   ]
  },
  {
   "cell_type": "code",
   "execution_count": 4,
   "id": "620656e2",
   "metadata": {},
   "outputs": [],
   "source": [
    "#create a directories for extentions \n",
    "annotations_dir = dhaka_image_dir / \"annotations\"\n",
    "images_dir = dhaka_image_dir /\"images\"\n",
    "\n",
    "annotations_dir.mkdir(exist_ok=True)\n",
    "images_dir.mkdir(exist_ok=True)"
   ]
  },
  {
   "cell_type": "code",
   "execution_count": 14,
   "id": "489cec69",
   "metadata": {},
   "outputs": [
    {
     "name": "stderr",
     "output_type": "stream",
     "text": [
      "                                                             \r"
     ]
    }
   ],
   "source": [
    "#move files to correct dir \n",
    "dhaka_files = list(dhaka_image_dir.iterdir())\n",
    "\n",
    "for file in tqdm (dhaka_files,desc=\"Moving\",leave=False):\n",
    "    if file.is_dir():\n",
    "        continue  \n",
    "    \n",
    "    if file.suffix.lower() in (\".jpg\",\".png\",\".jpeg\"):\n",
    "        target_dir= images_dir\n",
    "    elif file.suffix.lower() in (\".xml\"):\n",
    "        target_dir=annotations_dir    \n",
    "    file.rename(target_dir/file.name)"
   ]
  },
  {
   "cell_type": "code",
   "execution_count": 8,
   "id": "582c19f9",
   "metadata": {},
   "outputs": [],
   "source": [
    "# ensuring that both folders have the same length\n",
    "\n",
    "images_files = list(images_dir.iterdir())\n",
    "annotations_files = list(annotations_dir.iterdir())\n",
    "\n",
    "assert len(images_files) == len(annotations_files)"
   ]
  },
  {
   "cell_type": "markdown",
   "id": "4c462663",
   "metadata": {},
   "source": [
    "### show xml file content "
   ]
  },
  {
   "cell_type": "code",
   "execution_count": 12,
   "id": "c1e2d4f3",
   "metadata": {},
   "outputs": [
    {
     "name": "stdout",
     "output_type": "stream",
     "text": [
      "<annotation>\n",
      "<folder>Images</folder>\n",
      "<filename>02_Motijheel_280714_0005.jpg</filename>\n",
      "<path>E:\\Datasets\\Dataset\\Images\\02_Motijheel_280714_0005.jpg</path>\n",
      "<source>\n",
      "<database>Unknown</database>\n",
      "</source>\n",
      "<size>\n",
      "<width>1200</width>\n",
      "<height>800</height>\n",
      "<depth>3</depth>\n",
      "</size>\n",
      "<segmented>0</segmented>\n",
      "<object>\n",
      "<name>bus</name>\n",
      "<pose>Unspecified</pose>\n",
      "<truncated>1</truncated>\n",
      "<difficult>0</difficult>\n",
      "<bndbox>\n",
      "<xmin>833</xmin>\n",
      "<ymin>390</ymin>\n",
      "<xmax>1087</xmax>\n",
      "<ymax>800</ymax>\n",
      "</bndbox>\n",
      "</object>\n"
     ]
    }
   ],
   "source": [
    "xml_file = annotations_dir / \"01.xml\"\n",
    "\n",
    "with open(xml_file, \"r\", encoding=\"utf-8\") as f:\n",
    "    for i in range(25):\n",
    "        line = f.readline()\n",
    "        print(line.strip())\n"
   ]
  },
  {
   "cell_type": "code",
   "execution_count": null,
   "id": "c4f9bbbb",
   "metadata": {},
   "outputs": [],
   "source": []
  }
 ],
 "metadata": {
  "kernelspec": {
   "display_name": "pytorch_env",
   "language": "python",
   "name": "python3"
  },
  "language_info": {
   "codemirror_mode": {
    "name": "ipython",
    "version": 3
   },
   "file_extension": ".py",
   "mimetype": "text/x-python",
   "name": "python",
   "nbconvert_exporter": "python",
   "pygments_lexer": "ipython3",
   "version": "3.10.16"
  }
 },
 "nbformat": 4,
 "nbformat_minor": 5
}
